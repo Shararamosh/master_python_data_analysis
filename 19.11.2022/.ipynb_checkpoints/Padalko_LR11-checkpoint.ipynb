{
 "cells": [
  {
   "cell_type": "code",
   "execution_count": 1,
   "id": "ef4c1dd9-de25-4094-b261-7ac7a064cba3",
   "metadata": {},
   "outputs": [],
   "source": [
    "import pandas as pd\n",
    "import numpy as np\n",
    "from sklearn.metrics import roc_auc_score"
   ]
  },
  {
   "cell_type": "code",
   "execution_count": 2,
   "id": "8b235dc7-699c-4a9a-86c7-6b622d7ed0d3",
   "metadata": {},
   "outputs": [
    {
     "data": {
      "text/html": [
       "<div>\n",
       "<style scoped>\n",
       "    .dataframe tbody tr th:only-of-type {\n",
       "        vertical-align: middle;\n",
       "    }\n",
       "\n",
       "    .dataframe tbody tr th {\n",
       "        vertical-align: top;\n",
       "    }\n",
       "\n",
       "    .dataframe thead th {\n",
       "        text-align: right;\n",
       "    }\n",
       "</style>\n",
       "<table border=\"1\" class=\"dataframe\">\n",
       "  <thead>\n",
       "    <tr style=\"text-align: right;\">\n",
       "      <th></th>\n",
       "      <th>0</th>\n",
       "      <th>1</th>\n",
       "      <th>2</th>\n",
       "    </tr>\n",
       "  </thead>\n",
       "  <tbody>\n",
       "    <tr>\n",
       "      <th>0</th>\n",
       "      <td>-1</td>\n",
       "      <td>-0.663827</td>\n",
       "      <td>-0.138526</td>\n",
       "    </tr>\n",
       "    <tr>\n",
       "      <th>1</th>\n",
       "      <td>1</td>\n",
       "      <td>1.994596</td>\n",
       "      <td>2.468025</td>\n",
       "    </tr>\n",
       "    <tr>\n",
       "      <th>2</th>\n",
       "      <td>-1</td>\n",
       "      <td>-1.247395</td>\n",
       "      <td>0.749425</td>\n",
       "    </tr>\n",
       "    <tr>\n",
       "      <th>3</th>\n",
       "      <td>1</td>\n",
       "      <td>2.309374</td>\n",
       "      <td>1.899836</td>\n",
       "    </tr>\n",
       "    <tr>\n",
       "      <th>4</th>\n",
       "      <td>1</td>\n",
       "      <td>0.849143</td>\n",
       "      <td>2.407750</td>\n",
       "    </tr>\n",
       "    <tr>\n",
       "      <th>...</th>\n",
       "      <td>...</td>\n",
       "      <td>...</td>\n",
       "      <td>...</td>\n",
       "    </tr>\n",
       "    <tr>\n",
       "      <th>200</th>\n",
       "      <td>1</td>\n",
       "      <td>4.245176</td>\n",
       "      <td>3.053931</td>\n",
       "    </tr>\n",
       "    <tr>\n",
       "      <th>201</th>\n",
       "      <td>1</td>\n",
       "      <td>2.437935</td>\n",
       "      <td>1.357804</td>\n",
       "    </tr>\n",
       "    <tr>\n",
       "      <th>202</th>\n",
       "      <td>-1</td>\n",
       "      <td>-1.876638</td>\n",
       "      <td>1.533398</td>\n",
       "    </tr>\n",
       "    <tr>\n",
       "      <th>203</th>\n",
       "      <td>1</td>\n",
       "      <td>-6.824446</td>\n",
       "      <td>-13.934211</td>\n",
       "    </tr>\n",
       "    <tr>\n",
       "      <th>204</th>\n",
       "      <td>-1</td>\n",
       "      <td>0.001805</td>\n",
       "      <td>0.865147</td>\n",
       "    </tr>\n",
       "  </tbody>\n",
       "</table>\n",
       "<p>205 rows × 3 columns</p>\n",
       "</div>"
      ],
      "text/plain": [
       "     0         1          2\n",
       "0   -1 -0.663827  -0.138526\n",
       "1    1  1.994596   2.468025\n",
       "2   -1 -1.247395   0.749425\n",
       "3    1  2.309374   1.899836\n",
       "4    1  0.849143   2.407750\n",
       "..  ..       ...        ...\n",
       "200  1  4.245176   3.053931\n",
       "201  1  2.437935   1.357804\n",
       "202 -1 -1.876638   1.533398\n",
       "203  1 -6.824446 -13.934211\n",
       "204 -1  0.001805   0.865147\n",
       "\n",
       "[205 rows x 3 columns]"
      ]
     },
     "execution_count": 2,
     "metadata": {},
     "output_type": "execute_result"
    }
   ],
   "source": [
    "df = pd.read_csv(\"data-logistic.csv\", header = None)\n",
    "df"
   ]
  },
  {
   "cell_type": "code",
   "execution_count": 3,
   "id": "2143f2f8-18cb-441d-ae42-1dd9499d79a3",
   "metadata": {},
   "outputs": [],
   "source": [
    "x = df.drop(0, axis = 1).values\n",
    "y = df[0].values"
   ]
  },
  {
   "cell_type": "code",
   "execution_count": 4,
   "id": "8c119ed9-7198-4492-bfd0-dfa1d4ec4784",
   "metadata": {},
   "outputs": [],
   "source": [
    "def Gradient_Descend(x, y, w, k, C):\n",
    "    for i in range(0, 10000):\n",
    "        s1 = 0.0\n",
    "        s2 = 0.0\n",
    "        for j in range(0, x.shape[0]):\n",
    "            s1 += y[j]*x[j][0]*(1-1/(1+np.exp(-1.0*y[j]*(w[0]*x[j][0]+w[1]*x[j][1]))))\n",
    "            s2 += y[j]*x[j][1]*(1-1/(1+np.exp(-1.0*y[j]*(w[0]*x[j][0]+w[1]*x[j][1]))))\n",
    "        s1 *= k/x.shape[0]\n",
    "        s2 *= k/x.shape[0]\n",
    "        s1 -= k*C*w[0]\n",
    "        s2 -= k*C*w[1]\n",
    "        s1 += w[0]\n",
    "        s2 += w[1]\n",
    "        new_w = np.array([s1, s2])\n",
    "        if (np.linalg.norm(new_w-w) <= 0.00001):\n",
    "            print(\"Число итераций на выходе: \"+str(i)+\".\")\n",
    "            break\n",
    "        w = new_w.copy()\n",
    "    return w"
   ]
  },
  {
   "cell_type": "code",
   "execution_count": 5,
   "id": "843e6a51-659e-46c9-9461-05dfe761133c",
   "metadata": {},
   "outputs": [
    {
     "name": "stdout",
     "output_type": "stream",
     "text": [
      "Число итераций на выходе: 44.\n",
      "[0.12327696 0.08685148]\n",
      "Число итераций на выходе: 7.\n",
      "[0.02856197 0.02478366]\n"
     ]
    }
   ],
   "source": [
    "w_1 = Gradient_Descend(x, y, np.zeros(2), 0.1, 1.0)\n",
    "print(w_1)\n",
    "w_10 = Gradient_Descend(x, y, np.zeros(2), 0.1, 10.0)\n",
    "print(w_10)"
   ]
  },
  {
   "cell_type": "code",
   "execution_count": 6,
   "id": "1ed8ffd3-2aaf-4502-9b36-eef6907478d8",
   "metadata": {},
   "outputs": [],
   "source": [
    "def a_func(x, w):\n",
    "    a = np.zeros(x.shape[0])\n",
    "    for i in range(0, x.shape[0]):\n",
    "        a[i] = 1/(1+np.exp(-1.0*w[0]*x[i][0]-w[1]*x[i][1]))\n",
    "    return a"
   ]
  },
  {
   "cell_type": "code",
   "execution_count": 7,
   "id": "f165d3ef-d1e4-45a1-b0ee-051339e55313",
   "metadata": {},
   "outputs": [
    {
     "name": "stdout",
     "output_type": "stream",
     "text": [
      "0.9370476190476189 0.9362857142857142\n"
     ]
    }
   ],
   "source": [
    "a_1 = a_func(x, w_1)\n",
    "a_10 = a_func(x, w_10)\n",
    "score_1 = roc_auc_score(y, a_1)\n",
    "score_10 = roc_auc_score(y, a_10)\n",
    "print(score_1, score_10)"
   ]
  },
  {
   "cell_type": "markdown",
   "id": "c96722d3-189f-4613-b244-aded2a771e99",
   "metadata": {},
   "source": [
    "При увеличении шага происходит переполнение при расчёте эскпоненты, количество итераций увеличивается.\n",
    "\n",
    "При уменьшении шага количество итераций увеличивается.\n",
    "\n",
    "Изменение начального приближения увеличивает количество итераций."
   ]
  }
 ],
 "metadata": {
  "kernelspec": {
   "display_name": "Python 3 (ipykernel)",
   "language": "python",
   "name": "python3"
  },
  "language_info": {
   "codemirror_mode": {
    "name": "ipython",
    "version": 3
   },
   "file_extension": ".py",
   "mimetype": "text/x-python",
   "name": "python",
   "nbconvert_exporter": "python",
   "pygments_lexer": "ipython3",
   "version": "3.10.4"
  }
 },
 "nbformat": 4,
 "nbformat_minor": 5
}
