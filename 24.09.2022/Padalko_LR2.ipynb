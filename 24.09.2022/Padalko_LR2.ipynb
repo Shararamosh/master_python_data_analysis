{
 "cells": [
  {
   "cell_type": "markdown",
   "id": "e9909374-6056-4b99-94c3-a594c64b7804",
   "metadata": {},
   "source": [
    "Падалко Богдан. Лабораторная работа №2."
   ]
  },
  {
   "cell_type": "code",
   "execution_count": 1,
   "id": "dddbceec-cced-41f0-aaee-fa52fd9390ba",
   "metadata": {},
   "outputs": [],
   "source": [
    "import numpy as np\n",
    "np.random.seed(1597463007)"
   ]
  },
  {
   "cell_type": "markdown",
   "id": "a045cec7-5680-4e53-80b7-9614089e9ce1",
   "metadata": {},
   "source": [
    "Задание №5."
   ]
  },
  {
   "cell_type": "code",
   "execution_count": 2,
   "id": "97ecc0f0-c142-4662-a381-84d68f58bb23",
   "metadata": {},
   "outputs": [
    {
     "name": "stdout",
     "output_type": "stream",
     "text": [
      "Одномерный массив vec при помощи функции full: [5.1 5.1 5.1 5.1 5.1 5.1 5.1 5.1 5.1 5.1]\n"
     ]
    }
   ],
   "source": [
    "vec = np.full(10, 5.1)\n",
    "print(\"Одномерный массив vec при помощи функции full:\", vec)"
   ]
  },
  {
   "cell_type": "markdown",
   "id": "aa65e6f3-2450-4f56-bb5b-04f5677a24fd",
   "metadata": {},
   "source": [
    "Задание №6"
   ]
  },
  {
   "cell_type": "code",
   "execution_count": 3,
   "id": "0bc94736-e365-4c83-aad1-e41104940e5b",
   "metadata": {},
   "outputs": [
    {
     "name": "stdout",
     "output_type": "stream",
     "text": [
      "Двумерный массив matr при помощи функции randint:\n",
      "[[6 9 0 2 9 7 2 0 2 9]\n",
      " [3 2 8 9 5 9 5 9 4 2]\n",
      " [3 0 9 7 3 7 5 8 2 0]\n",
      " [5 5 0 7 9 4 0 2 9 0]\n",
      " [9 5 2 9 1 8 7 2 5 6]]\n"
     ]
    }
   ],
   "source": [
    "matr = np.random.randint(10, size = (5, 10))\n",
    "print(\"Двумерный массив matr при помощи функции randint:\")\n",
    "print(matr)"
   ]
  },
  {
   "cell_type": "markdown",
   "id": "7d0b16b7-95b3-4e80-9daa-4066c109e8dc",
   "metadata": {},
   "source": [
    "Задание №9"
   ]
  },
  {
   "cell_type": "code",
   "execution_count": 4,
   "id": "aae03b4f-571f-465f-8fa4-0d413e6c7757",
   "metadata": {},
   "outputs": [
    {
     "name": "stdout",
     "output_type": "stream",
     "text": [
      "Информация о двумерном массиве matr:\n",
      "Тип (dtype): int32\n",
      "Размерность (ndim): 2\n",
      "Размерность (shape): (5, 10)\n",
      "Количество элементов (size): 50\n",
      "Объём одного элемента в байтах (itemsize): 4\n",
      "Объём всего массива в байтах (nbytes): 200\n"
     ]
    }
   ],
   "source": [
    "print(\"Информация о двумерном массиве matr:\")\n",
    "print(\"Тип (dtype):\", matr.dtype)\n",
    "print(\"Размерность (ndim):\", matr.ndim)\n",
    "print(\"Размерность (shape):\", matr.shape)\n",
    "print(\"Количество элементов (size):\", matr.size)\n",
    "print(\"Объём одного элемента в байтах (itemsize):\", matr.itemsize)\n",
    "print(\"Объём всего массива в байтах (nbytes):\", matr.nbytes)"
   ]
  },
  {
   "cell_type": "markdown",
   "id": "a8933b25-c72d-4e99-8ac1-1453fdae61bd",
   "metadata": {},
   "source": [
    "Задание №10"
   ]
  },
  {
   "cell_type": "code",
   "execution_count": 5,
   "id": "c9259a44-386f-4d2a-8d67-df15ca4a1446",
   "metadata": {},
   "outputs": [
    {
     "name": "stdout",
     "output_type": "stream",
     "text": [
      "Изменённый двумерный массив matr:\n",
      "[[ 6  9  0  2  9  7  2  0  2  9]\n",
      " [ 3  2  8  9  5  9  5  9  4  2]\n",
      " [ 3  0  9  7  8 12 10 13  2  0]\n",
      " [ 5  5  0  7 14  9  5  7  9  0]\n",
      " [ 9  5  2  9  6 13 12  7  5  6]]\n"
     ]
    }
   ],
   "source": [
    "matr[2:, 4:8] += 5\n",
    "print(\"Изменённый двумерный массив matr:\")\n",
    "print(matr)"
   ]
  },
  {
   "cell_type": "markdown",
   "id": "1d0084b7-71f6-4e96-a6bd-c9f659edd344",
   "metadata": {},
   "source": [
    "Задание №11"
   ]
  },
  {
   "cell_type": "code",
   "execution_count": 6,
   "id": "42f98cd5-108b-4b5f-9c9b-b5b1931eb60c",
   "metadata": {},
   "outputs": [
    {
     "name": "stdout",
     "output_type": "stream",
     "text": [
      "Скалярное произведение массивов matr и vec:\n",
      "[234.6 285.6 326.4 311.1 377.4]\n",
      "Сумма массива matr и числа 10:\n",
      "[[16 19 10 12 19 17 12 10 12 19]\n",
      " [13 12 18 19 15 19 15 19 14 12]\n",
      " [13 10 19 17 18 22 20 23 12 10]\n",
      " [15 15 10 17 24 19 15 17 19 10]\n",
      " [19 15 12 19 16 23 22 17 15 16]]\n",
      "Произведение массива vec и числа 0.5:\n",
      "[2.55 2.55 2.55 2.55 2.55 2.55 2.55 2.55 2.55 2.55]\n"
     ]
    }
   ],
   "source": [
    "print(\"Скалярное произведение массивов matr и vec:\")\n",
    "print(np.dot(matr, vec))\n",
    "print(\"Сумма массива matr и числа 10:\")\n",
    "print(np.add(matr, 10))\n",
    "print(\"Произведение массива vec и числа 0.5:\")\n",
    "print(np.multiply(vec, 0.5))"
   ]
  },
  {
   "cell_type": "markdown",
   "id": "6bf468f2-7056-4c23-ab78-0259e91c53e6",
   "metadata": {},
   "source": [
    "Задание №15"
   ]
  },
  {
   "cell_type": "code",
   "execution_count": 7,
   "id": "0bfe27cf-1da0-4115-a8bc-1f939ef13c61",
   "metadata": {},
   "outputs": [
    {
     "name": "stdout",
     "output_type": "stream",
     "text": [
      "L2-норма вектора vec:\n",
      "16.127616066858735\n"
     ]
    }
   ],
   "source": [
    "print(\"L2-норма вектора vec:\")\n",
    "print(np.linalg.norm(vec, 2))"
   ]
  },
  {
   "cell_type": "markdown",
   "id": "9993ac76-92f8-4142-aaa7-c81a89ef587e",
   "metadata": {},
   "source": [
    "Задание №19"
   ]
  },
  {
   "cell_type": "code",
   "execution_count": 8,
   "id": "3d9a84ce-d741-4721-8a37-45b3cd7203b2",
   "metadata": {},
   "outputs": [
    {
     "name": "stdout",
     "output_type": "stream",
     "text": [
      "Матрица A:\n",
      "[[7 1 2 8 2]\n",
      " [7 5 6 0 4]\n",
      " [0 6 9 0 7]\n",
      " [4 3 9 3 5]\n",
      " [2 9 9 6 8]]\n",
      "Матрица B:\n",
      "[[3 7 9 4 3]\n",
      " [3 5 4 2 0]\n",
      " [8 2 7 0 2]\n",
      " [9 2 8 8 1]\n",
      " [3 7 1 6 1]]\n",
      "Сумма матриц:\n",
      "[[10  8 11 12  5]\n",
      " [10 10 10  2  4]\n",
      " [ 8  8 16  0  9]\n",
      " [13  5 17 11  6]\n",
      " [ 5 16 10 12  9]]\n",
      "Разность матриц:\n",
      "[[ 4 -6 -7  4 -1]\n",
      " [ 4  0  2 -2  4]\n",
      " [-8  4  2  0  5]\n",
      " [-5  1  1 -5  4]\n",
      " [-1  2  8  0  7]]\n",
      "Поэлементное произведение матриц:\n",
      "[[21  7 18 32  6]\n",
      " [21 25 24  0  0]\n",
      " [ 0 12 63  0 14]\n",
      " [36  6 72 24  5]\n",
      " [ 6 63  9 36  8]]\n",
      "Скалярное произведение матриц:\n",
      "[[118  88 147 106  35]\n",
      " [ 96 114 129  62  37]\n",
      " [111  97  94  54  25]\n",
      " [135 102 140  76  38]\n",
      " [183 145 173 122  38]]\n"
     ]
    }
   ],
   "source": [
    "A = np.random.randint(10, size = (5, 5))\n",
    "B = np.random.randint(10, size = (5, 5))\n",
    "print(\"Матрица A:\")\n",
    "print(A)\n",
    "print(\"Матрица B:\")\n",
    "print(B)\n",
    "print(\"Сумма матриц:\")\n",
    "print(np.add(A, B))\n",
    "print(\"Разность матриц:\")\n",
    "print(np.subtract(A, B))\n",
    "print(\"Поэлементное произведение матриц:\")\n",
    "print(np.multiply(A, B))\n",
    "print(\"Скалярное произведение матриц:\")\n",
    "print(np.dot(A, B))"
   ]
  },
  {
   "cell_type": "markdown",
   "id": "66fb5fdd-b0e5-4fde-907d-e174bdbfe873",
   "metadata": {},
   "source": [
    "Задание №21"
   ]
  },
  {
   "cell_type": "code",
   "execution_count": 9,
   "id": "5812d785-53e1-4913-873c-2f3249c1b1ac",
   "metadata": {},
   "outputs": [
    {
     "name": "stdout",
     "output_type": "stream",
     "text": [
      "Собственные значения матрицы A:\n",
      "[24.69537494+0.j          5.17515997+3.29317708j  5.17515997-3.29317708j\n",
      " -1.52284744+1.08954185j -1.52284744-1.08954185j]\n"
     ]
    }
   ],
   "source": [
    "print(\"Собственные значения матрицы A:\")\n",
    "print(np.linalg.eigvals(A))"
   ]
  },
  {
   "cell_type": "markdown",
   "id": "a69930f6-54b3-4e74-8cbc-bfa02ae9f355",
   "metadata": {},
   "source": [
    "Задание №26"
   ]
  },
  {
   "cell_type": "code",
   "execution_count": 10,
   "id": "ca19312c-7af9-49d6-9616-66514d90ba75",
   "metadata": {},
   "outputs": [
    {
     "name": "stdout",
     "output_type": "stream",
     "text": [
      "Сгенерированный массив:\n",
      "[[ 4  4 -2 -3  5  7  5 -2  8  2  5  6  2  5  7]\n",
      " [-5  2  1 -1  6 -4  6 -1 -5  9 -3  7 -1  4 -2]\n",
      " [ 0 -4 -2  1  0  2  6 -1  9 -2  9  3  9  0  2]\n",
      " [ 8  5  7  6  2  0 -1  9 -5  9  7  3 -1  6  4]\n",
      " [-5  7  8  4  7 -3 -5  3  5  8  1  8  9  8  8]\n",
      " [-1  1  8  8  7  2  2  2  1  3 -1  8 -3 -4  6]\n",
      " [-2  0  4  4 -3  9  2  6  0  2 -2 -4  9  0  8]\n",
      " [ 6  2 -3 -2  5  5  9 -5  0 -1  6  9 -5  5  1]\n",
      " [-3 -1  9  5 -3 -2 -5 -4 -5  6  2 -5  7  1 -2]\n",
      " [-2 -4 -1  2 -4  2 -1  3  0 -3  3  5  8  6 -1]]\n",
      "Сумма значений элементов:\n",
      "337\n",
      "Среднее значение элементов:\n",
      "2.2466666666666666\n",
      "Минимальное значение элементов:\n",
      "-5\n"
     ]
    }
   ],
   "source": [
    "agr_arr = np.random.randint(low = -5, high = 10, size = (10, 15))\n",
    "print(\"Сгенерированный массив:\")\n",
    "print(agr_arr)\n",
    "print(\"Сумма значений элементов:\")\n",
    "print(np.sum(agr_arr))\n",
    "print(\"Среднее значение элементов:\")\n",
    "print(np.mean(agr_arr))\n",
    "print(\"Минимальное значение элементов:\")\n",
    "print(np.min(agr_arr))"
   ]
  },
  {
   "cell_type": "markdown",
   "id": "9d6a192e-583a-4a88-a47c-0c6dfa90aeba",
   "metadata": {},
   "source": [
    "Задание №32"
   ]
  },
  {
   "cell_type": "code",
   "execution_count": 11,
   "id": "de990402-a74e-4841-9b89-25e76053cc29",
   "metadata": {},
   "outputs": [
    {
     "name": "stdout",
     "output_type": "stream",
     "text": [
      "Сгенерированный массив:\n",
      "[[ 0 -3 -4 -4 -4  9  6  9  4  9 -1  4  5 -2  8]\n",
      " [-5 -1  4  8 -4 -1  5 -3 -3  1  5 -3 -1  5 -3]\n",
      " [-2  9 -1 -5 -4  2  6  5 -2  9 -1  1  9 -5 -2]\n",
      " [-2  9  9 -3 -3  1 -5  2  1  6 -4  5 -4  4  4]\n",
      " [ 2  9  0  5  6  3  1  9  2  5  5  6  0 -3  7]\n",
      " [ 0  0 -4 -5  4  7 -2  7  4  0  9  8  6  7  2]\n",
      " [ 7  0  9 -5  3  3  3  9  4  3  2  7 -2 -3  2]\n",
      " [ 0 -3 -4 -4  0  8  8 -4 -2  2  7  4  2  8 -3]\n",
      " [-5  2  9  8  3  9 -5 -2  7 -2 -3  4 -1  3  5]\n",
      " [-2  2  6  8  4 -2 -1  9  7 -5  2  7  3  5 -3]]\n",
      "Массив с заменой отрицательных элементов на 0:\n",
      "[[0 0 0 0 0 9 6 9 4 9 0 4 5 0 8]\n",
      " [0 0 4 8 0 0 5 0 0 1 5 0 0 5 0]\n",
      " [0 9 0 0 0 2 6 5 0 9 0 1 9 0 0]\n",
      " [0 9 9 0 0 1 0 2 1 6 0 5 0 4 4]\n",
      " [2 9 0 5 6 3 1 9 2 5 5 6 0 0 7]\n",
      " [0 0 0 0 4 7 0 7 4 0 9 8 6 7 2]\n",
      " [7 0 9 0 3 3 3 9 4 3 2 7 0 0 2]\n",
      " [0 0 0 0 0 8 8 0 0 2 7 4 2 8 0]\n",
      " [0 2 9 8 3 9 0 0 7 0 0 4 0 3 5]\n",
      " [0 2 6 8 4 0 0 9 7 0 2 7 3 5 0]]\n"
     ]
    }
   ],
   "source": [
    "agr_arr_nxt = np.random.randint(low = -5, high = 10, size = (10, 15))\n",
    "print(\"Сгенерированный массив:\")\n",
    "print(agr_arr_nxt)\n",
    "agr_arr_nxt[agr_arr_nxt < 0] = 0\n",
    "print(\"Массив с заменой отрицательных элементов на 0:\")\n",
    "print(agr_arr_nxt)"
   ]
  },
  {
   "cell_type": "markdown",
   "id": "e028799e-763f-40d6-a095-910590e1a575",
   "metadata": {},
   "source": [
    "Задание №35"
   ]
  },
  {
   "cell_type": "markdown",
   "id": "b6aecaa9-ed40-4067-b5c6-a5170700a271",
   "metadata": {},
   "source": [
    "Средства Numpy"
   ]
  },
  {
   "cell_type": "code",
   "execution_count": 12,
   "id": "0c7dca5c-6077-462d-8402-93056b30bd2f",
   "metadata": {},
   "outputs": [],
   "source": [
    "def Numpy_AddMaxColumnToTheEnd(matr):\n",
    "    return np.append(matr, np.max(matr, axis = 1).reshape(-1, 1), axis = 1)"
   ]
  },
  {
   "cell_type": "code",
   "execution_count": 13,
   "id": "2c5146d8-a095-4173-9d23-cade20c1c526",
   "metadata": {},
   "outputs": [
    {
     "name": "stdout",
     "output_type": "stream",
     "text": [
      "Матрица (100*100):\n",
      "CPU times: total: 0 ns\n",
      "Wall time: 1 ms\n"
     ]
    }
   ],
   "source": [
    "%%time\n",
    "print(\"Матрица (100*100):\")\n",
    "t_nm = np.random.randint(low = -5, high = 10, size = (100, 100))\n",
    "t_nm = Numpy_AddMaxColumnToTheEnd(t_nm)"
   ]
  },
  {
   "cell_type": "code",
   "execution_count": 14,
   "id": "cb05041f-2690-4d06-99c8-b7e528758da1",
   "metadata": {},
   "outputs": [
    {
     "name": "stdout",
     "output_type": "stream",
     "text": [
      "Матрица (1000*1000):\n",
      "CPU times: total: 0 ns\n",
      "Wall time: 7.51 ms\n"
     ]
    }
   ],
   "source": [
    "%%time\n",
    "print(\"Матрица (1000*1000):\")\n",
    "t_nm = np.random.randint(low = -5, high = 10, size = (1000, 1000))\n",
    "t_nm = Numpy_AddMaxColumnToTheEnd(t_nm)"
   ]
  },
  {
   "cell_type": "code",
   "execution_count": 15,
   "id": "4d765acf-248e-4081-9050-7c4ad1e03a98",
   "metadata": {},
   "outputs": [
    {
     "name": "stdout",
     "output_type": "stream",
     "text": [
      "Матрица (10000*10000):\n",
      "CPU times: total: 141 ms\n",
      "Wall time: 601 ms\n"
     ]
    }
   ],
   "source": [
    "%%time\n",
    "print(\"Матрица (10000*10000):\")\n",
    "t_nm = np.random.randint(low = -5, high = 10, size = (10000, 10000))\n",
    "t_nm = Numpy_AddMaxColumnToTheEnd(t_nm)"
   ]
  },
  {
   "cell_type": "markdown",
   "id": "a13c3a3e-5c86-4554-ab51-d0cbb87a8b6e",
   "metadata": {},
   "source": [
    "Стандартные средства Python"
   ]
  },
  {
   "cell_type": "code",
   "execution_count": 16,
   "id": "ed249e4a-7192-49d5-83e2-0c77ca051020",
   "metadata": {},
   "outputs": [],
   "source": [
    "def Std_AddMaxColumnToTheEnd(matr):\n",
    "    matr = np.append(matr, matr[matr.shape[0]-1].reshape(-1, 1), axis = 1)\n",
    "    for i in range(0, matr.shape[0]):\n",
    "        s = matr[i, 0]\n",
    "        for j in range(1, matr.shape[1]-1):\n",
    "            if matr[i, j] > s:\n",
    "                s = matr[i, j]\n",
    "        matr[i, matr.shape[1]-1] = s\n",
    "    return matr"
   ]
  },
  {
   "cell_type": "code",
   "execution_count": 17,
   "id": "4516ca25-7a33-4353-b3c7-21ae7464904d",
   "metadata": {},
   "outputs": [
    {
     "name": "stdout",
     "output_type": "stream",
     "text": [
      "Матрица (100*100):\n",
      "CPU times: total: 15.6 ms\n",
      "Wall time: 30.1 ms\n"
     ]
    }
   ],
   "source": [
    "%%time\n",
    "print(\"Матрица (100*100):\")\n",
    "t_nm = np.random.randint(low = -5, high = 10, size = (100, 100))\n",
    "t_nm = Std_AddMaxColumnToTheEnd(t_nm)"
   ]
  },
  {
   "cell_type": "code",
   "execution_count": 18,
   "id": "9e4c1c18-cedc-4117-936b-c2e2d14970ae",
   "metadata": {},
   "outputs": [
    {
     "name": "stdout",
     "output_type": "stream",
     "text": [
      "Матрица (1000*1000):\n",
      "CPU times: total: 31.2 ms\n",
      "Wall time: 123 ms\n"
     ]
    }
   ],
   "source": [
    "%%time\n",
    "print(\"Матрица (1000*1000):\")\n",
    "t_nm = np.random.randint(low = -5, high = 10, size = (1000, 1000))\n",
    "t_nm = Std_AddMaxColumnToTheEnd(t_nm)"
   ]
  },
  {
   "cell_type": "code",
   "execution_count": 19,
   "id": "b6a3e440-8508-405c-ab89-79368b7ce1f5",
   "metadata": {},
   "outputs": [
    {
     "name": "stdout",
     "output_type": "stream",
     "text": [
      "Матрица (10000*10000):\n",
      "CPU times: total: 6.11 s\n",
      "Wall time: 12.2 s\n"
     ]
    }
   ],
   "source": [
    "%%time\n",
    "print(\"Матрица (10000*10000):\")\n",
    "t_nm = np.random.randint(low = -5, high = 10, size = (10000, 10000))\n",
    "t_nm = Std_AddMaxColumnToTheEnd(t_nm)"
   ]
  },
  {
   "cell_type": "markdown",
   "id": "69ce3c1a-8df6-4270-be34-afa4347682cf",
   "metadata": {},
   "source": [
    "Время исполнения функции при использовании средств стандартной библиотеки Python больше, чем при использовании библиотеки Numpy."
   ]
  },
  {
   "cell_type": "markdown",
   "id": "641d3b91-f51e-4812-a3f0-467db1cfd7de",
   "metadata": {},
   "source": [
    "Задание №38."
   ]
  },
  {
   "cell_type": "code",
   "execution_count": 20,
   "id": "bb65808e-954e-4294-9170-3e04dc20e2ce",
   "metadata": {},
   "outputs": [
    {
     "name": "stdout",
     "output_type": "stream",
     "text": [
      "Сгенерирован массив:\n",
      "[[ 1 -4  5 -3 -4  4  2 -2  5  2 -5  4  2  6 -4  9  4  5  7 -4]\n",
      " [ 5  1  3 -2  2 -2  3  1 -3  4  1  1  4 -3  0 -5  6  7 -1  4]\n",
      " [-4  6  2  8 -2  7  4  1 -2  2  8  3 -1  8  8  8  3  4  9 -1]\n",
      " [ 0 -4  4  1  0 -4  2 -5  5  4  9  3  0 -2  5  3  7  2  8 -5]\n",
      " [ 4 -3  4  8 -5 -1  3  4  8 -3  2  7  5  5 -2 -1  4 -3 -4  6]\n",
      " [-1  6  1  4  2 -3 -1 -3 -5  7 -2  3 -3 -2  6  2  1  2  5 -2]\n",
      " [ 8 -4  6 -1 -5  0  4  1 -3  6  4 -1 -3 -1  9  3  3 -1  3  9]\n",
      " [-2  5 -5 -5  9 -2 -4  1  2  2  0 -3 -2  7 -3 -1  4 -3 -1  4]\n",
      " [-1  5  2  4  0 -3  9  7  9  0  5 -4  1  4  0 -3  7  0  9  6]\n",
      " [ 9 -3  8  6  6  5  8  0  6  6  1  1  6 -2 -1  3 -3  0 -2  4]]\n",
      "Сортированный массив:\n",
      "[-5 -5 -5 -5 -5 -5 -5 -5 -5 -4 -4 -4 -4 -4 -4 -4 -4 -4 -4 -4 -3 -3 -3 -3\n",
      " -3 -3 -3 -3 -3 -3 -3 -3 -3 -3 -3 -3 -3 -3 -2 -2 -2 -2 -2 -2 -2 -2 -2 -2\n",
      " -2 -2 -2 -2 -2 -1 -1 -1 -1 -1 -1 -1 -1 -1 -1 -1 -1 -1 -1 -1  0  0  0  0\n",
      "  0  0  0  0  0  0  0  0  1  1  1  1  1  1  1  1  1  1  1  1  1  1  2  2\n",
      "  2  2  2  2  2  2  2  2  2  2  2  2  2  3  3  3  3  3  3  3  3  3  3  3\n",
      "  3  4  4  4  4  4  4  4  4  4  4  4  4  4  4  4  4  4  4  4  4  4  4  5\n",
      "  5  5  5  5  5  5  5  5  5  5  5  5  6  6  6  6  6  6  6  6  6  6  6  6\n",
      "  6  6  7  7  7  7  7  7  7  7  7  8  8  8  8  8  8  8  8  8  8  8  9  9\n",
      "  9  9  9  9  9  9  9  9]\n"
     ]
    }
   ],
   "source": [
    "arr = np.random.randint(low = -5, high = 10, size = (10, 20))\n",
    "print(\"Сгенерирован массив:\")\n",
    "print(arr)\n",
    "print(\"Сортированный массив:\")\n",
    "print(np.sort(arr, axis = None))"
   ]
  },
  {
   "cell_type": "markdown",
   "id": "9ab8b0fa-f842-43f9-b638-853430f5e27e",
   "metadata": {},
   "source": [
    "Задание №41"
   ]
  },
  {
   "cell_type": "code",
   "execution_count": 21,
   "id": "d79f1640-c31b-4922-82ab-707028287543",
   "metadata": {},
   "outputs": [
    {
     "name": "stdout",
     "output_type": "stream",
     "text": [
      "Сгенерирован массив:\n",
      "[[ 0 -2  8  9  2 -2 -1  1  1  5  8 -5  5 -3  8 -1  0  3  0 -3]\n",
      " [-5  6  0  2  3 -1  2  2 -3  5  8 -1  6 -5 -5 -4  9 -2  2  9]\n",
      " [-3  0  9  0  2 -3  5  8  6  7 -2 -1  4  6  9  0  0  3 -1 -3]\n",
      " [-4 -4  1  0 -4 -4  6 -1  2  7  4  0  6  8  5  2 -1 -5  8  9]\n",
      " [-1  2  1  4  5  3  5  1  7  7 -3  8  6 -2 -3  5  6  1  0  0]\n",
      " [-2  8  1 -2  8  5  7  5 -4  6  3  0  2  8  5  5 -5 -4 -1  2]\n",
      " [ 3 -4  9  2  2  6  3  5 -5  9  7  2 -5  0 -5 -1  5 -4  8 -4]\n",
      " [ 3  5 -1 -5  3  9  9 -5  5  1 -1 -2  3  1  9  3  9 -1  4  8]\n",
      " [ 1 -1  7 -2  3  7  1 -5 -4  1 -2  3  2 -5 -3  6  9 -5  3  3]\n",
      " [ 9 -2 -2  9 -2  0  8 -4  2  5  8  1 -3  7 -2  6  3  9  5 -5]]\n",
      "Массив сохранён в файл LR2_41_Array.npy.\n",
      "Массив, загруженный из файла LR2_41_Array.npy:\n",
      "[[ 0 -2  8  9  2 -2 -1  1  1  5  8 -5  5 -3  8 -1  0  3  0 -3]\n",
      " [-5  6  0  2  3 -1  2  2 -3  5  8 -1  6 -5 -5 -4  9 -2  2  9]\n",
      " [-3  0  9  0  2 -3  5  8  6  7 -2 -1  4  6  9  0  0  3 -1 -3]\n",
      " [-4 -4  1  0 -4 -4  6 -1  2  7  4  0  6  8  5  2 -1 -5  8  9]\n",
      " [-1  2  1  4  5  3  5  1  7  7 -3  8  6 -2 -3  5  6  1  0  0]\n",
      " [-2  8  1 -2  8  5  7  5 -4  6  3  0  2  8  5  5 -5 -4 -1  2]\n",
      " [ 3 -4  9  2  2  6  3  5 -5  9  7  2 -5  0 -5 -1  5 -4  8 -4]\n",
      " [ 3  5 -1 -5  3  9  9 -5  5  1 -1 -2  3  1  9  3  9 -1  4  8]\n",
      " [ 1 -1  7 -2  3  7  1 -5 -4  1 -2  3  2 -5 -3  6  9 -5  3  3]\n",
      " [ 9 -2 -2  9 -2  0  8 -4  2  5  8  1 -3  7 -2  6  3  9  5 -5]]\n"
     ]
    }
   ],
   "source": [
    "arr = np.random.randint(low = -5, high = 10, size = (10, 20))\n",
    "print(\"Сгенерирован массив:\")\n",
    "print(arr)\n",
    "np.save(\"LR2_41_Array\", arr)\n",
    "print(\"Массив сохранён в файл LR2_41_Array.npy.\")\n",
    "new_arr = np.load(\"LR2_41_Array.npy\")\n",
    "print(\"Массив, загруженный из файла LR2_41_Array.npy:\")\n",
    "print(new_arr)"
   ]
  }
 ],
 "metadata": {
  "kernelspec": {
   "display_name": "Python 3 (ipykernel)",
   "language": "python",
   "name": "python3"
  },
  "language_info": {
   "codemirror_mode": {
    "name": "ipython",
    "version": 3
   },
   "file_extension": ".py",
   "mimetype": "text/x-python",
   "name": "python",
   "nbconvert_exporter": "python",
   "pygments_lexer": "ipython3",
   "version": "3.10.4"
  }
 },
 "nbformat": 4,
 "nbformat_minor": 5
}
